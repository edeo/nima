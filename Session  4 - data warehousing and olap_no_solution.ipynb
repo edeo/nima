{
 "cells": [
  {
   "cell_type": "markdown",
   "metadata": {},
   "source": [
    "* Suppose that a data warehouse consists of the three dimensions time, doctor, and patient, and the two\n",
    "measures count and charge, where charge is the fee that a doctor charges a patient for a visit."
   ]
  },
  {
   "cell_type": "markdown",
   "metadata": {},
   "source": [
    "* (a) Enumerate three classes of schemas that are popularly used for modeling data warehouses.\n",
    "* (b) Draw a schema diagram for the above data warehouse using one of the schema classes listed in (a).\n",
    "* (c) Starting with the base cuboid [day, doctor, patient], what specific OLAP operations should be performed\n",
    " in order to list the total fee collected by each doctor in 2004?\n",
    "* (d) To obtain the same list, write an SQL query assuming the data is stored in a relational database with\n",
    "the schema fee (day, month, year, doctor, hospital, patient, count, charge)."
   ]
  },
  {
   "cell_type": "markdown",
   "metadata": {
    "collapsed": true
   },
   "source": []
  },
  {
   "cell_type": "markdown",
   "metadata": {},
   "source": []
  },
  {
   "cell_type": "markdown",
   "metadata": {},
   "source": [
    "R :\n"
   ]
  },
  {
   "cell_type": "code",
   "execution_count": null,
   "metadata": {
    "collapsed": true
   },
   "outputs": [],
   "source": []
  }
 ],
 "metadata": {
  "kernelspec": {
   "display_name": "R",
   "language": "R",
   "name": "ir"
  },
  "language_info": {
   "codemirror_mode": "r",
   "file_extension": ".r",
   "mimetype": "text/x-r-source",
   "name": "R",
   "pygments_lexer": "r",
   "version": "3.3.1"
  }
 },
 "nbformat": 4,
 "nbformat_minor": 0
}
