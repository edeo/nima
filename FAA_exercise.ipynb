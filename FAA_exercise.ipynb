{
 "cells": [
  {
   "cell_type": "markdown",
   "metadata": {},
   "source": [
    "This is this week's assignment.  It looks to be mostly working with\n",
    "pandas and dataframe.  Hope I can get most of it done by Friday.\n",
    "\n",
    "In this exercise you'll examine passenger volume data and also\n",
    "incident and accident data for airlines and airports. You have the use\n",
    "of your previously manipulated air transportation data (the data you\n",
    "worked with in GrEx1). New data are from the U.S. Dept. of\n",
    "Transportation (USDOT) and the U.S. Federal Aviation Administration\n",
    "(FAA).\n",
    "\n",
    "The Data\n",
    "\n",
    "The new data in this assignment are from the USDOT and FAA. The USDOT\n",
    "data are for calendar year 2014. They are about passengers who\n",
    "travelled. It's in the headered csv file 2014 CY-YTD Passenger Raw\n",
    "Data_2-1.csv. Some background on this data can be found at:\n",
    "\n",
    "[http://www.transportation.gov/policy/aviation-policy/us-international-air-passenger-and-freight-statistics-report#TheData]\n",
    "\n",
    "The FAA data are \"AID\" data: they're about air transportation\n",
    "accidents and incidents. They can be found at:\n",
    "\n",
    "http://av-info.faa.gov/dd_sublevel.asp?Folder=\\AID\n",
    "\n",
    "The FAA data you should use for the assignment are in the file\n",
    "A2010_14.zip, which is a zip archived tab delimited file. (It should\n",
    "be tab delimited, but it might be fixed field.) The layout of this\n",
    "file is in Afilelayout.txt. The FAA airport codes are in Airport.txt.\n",
    "The descriptions of various codes are in AIDCODES.DOC. You can find\n",
    "additional documentation on the FAA site, above.\n",
    "\n",
    "What You Need to Do\n",
    "\n",
    "Use the available data to do the following.\n",
    "\n",
    "Determine for the airports BOS, MDW, FLL, MIA, and LAX how many\n",
    "passenger departures and arrivals they each had in 2014, and also\n",
    "which airline was each airport's largest departure carrier and the\n",
    "largest arrival carrier.\n",
    "For each of these airports, determine what airports the largest number\n",
    "of arrivals were from, and the airport that the largest number of\n",
    "departures went to.\n",
    "For each of these airports, determine the number of accidents or\n",
    "incidents that occurred at them between 2010 and 2014 inclusive,\n",
    "according to the FAA. Determine the number of deaths that occurred in\n",
    "each event for each of these five airports.\n",
    "Determine what the top ten (primary) causes of 2010-2014 incidents and\n",
    "accidents are for all events resulting in deaths regardless of where\n",
    "they occurred. Provide descriptions (not codes) for the causes.\n",
    "\n",
    "Use the available data in the ways that work best for you.\n",
    "\n",
    "Note that in the USDOT data file there are commas in quantities that\n",
    "exceed one thousand. Where this is the case, the quantity is enclosed\n",
    "in double quotes.\n",
    "\n",
    "\n",
    "## Part 1"
   ]
  },
  {
   "cell_type": "markdown",
   "metadata": {},
   "source": [
    "### 1.1\n",
    "\n",
    "Read in the data files : "
   ]
  },
  {
   "cell_type": "code",
   "execution_count": 4,
   "metadata": {
    "collapsed": false
   },
   "outputs": [],
   "source": [
    "\n",
    "df <- read.csv('2014 CY-YTD Passenger Raw Data.csv')"
   ]
  },
  {
   "cell_type": "markdown",
   "metadata": {},
   "source": [
    "* 1.2 What are the dimensions of the dataframes?\n"
   ]
  },
  {
   "cell_type": "code",
   "execution_count": 5,
   "metadata": {
    "collapsed": false
   },
   "outputs": [
    {
     "data": {
      "text/html": [
       "<ol class=list-inline>\n",
       "\t<li>25593</li>\n",
       "\t<li>11</li>\n",
       "</ol>\n"
      ],
      "text/latex": [
       "\\begin{enumerate*}\n",
       "\\item 25593\n",
       "\\item 11\n",
       "\\end{enumerate*}\n"
      ],
      "text/markdown": [
       "1. 25593\n",
       "2. 11\n",
       "\n",
       "\n"
      ],
      "text/plain": [
       "[1] 25593    11"
      ]
     },
     "metadata": {},
     "output_type": "display_data"
    }
   ],
   "source": [
    "dim(df)"
   ]
  },
  {
   "cell_type": "markdown",
   "metadata": {},
   "source": [
    "* 1.3 Determine for the airports BOS, MDW, FLL, MIA, and LAX how many passenger departures "
   ]
  },
  {
   "cell_type": "code",
   "execution_count": 6,
   "metadata": {
    "collapsed": false
   },
   "outputs": [
    {
     "data": {
      "text/html": [
       "<ol class=list-inline>\n",
       "\t<li>'Month'</li>\n",
       "\t<li>'OriginApt'</li>\n",
       "\t<li>'DestApt'</li>\n",
       "\t<li>'OriginWAC'</li>\n",
       "\t<li>'DestWAC'</li>\n",
       "\t<li>'Carrier'</li>\n",
       "\t<li>'Group'</li>\n",
       "\t<li>'Type'</li>\n",
       "\t<li>'Total'</li>\n",
       "\t<li>'Scheduled'</li>\n",
       "\t<li>'Charter'</li>\n",
       "</ol>\n"
      ],
      "text/latex": [
       "\\begin{enumerate*}\n",
       "\\item 'Month'\n",
       "\\item 'OriginApt'\n",
       "\\item 'DestApt'\n",
       "\\item 'OriginWAC'\n",
       "\\item 'DestWAC'\n",
       "\\item 'Carrier'\n",
       "\\item 'Group'\n",
       "\\item 'Type'\n",
       "\\item 'Total'\n",
       "\\item 'Scheduled'\n",
       "\\item 'Charter'\n",
       "\\end{enumerate*}\n"
      ],
      "text/markdown": [
       "1. 'Month'\n",
       "2. 'OriginApt'\n",
       "3. 'DestApt'\n",
       "4. 'OriginWAC'\n",
       "5. 'DestWAC'\n",
       "6. 'Carrier'\n",
       "7. 'Group'\n",
       "8. 'Type'\n",
       "9. 'Total'\n",
       "10. 'Scheduled'\n",
       "11. 'Charter'\n",
       "\n",
       "\n"
      ],
      "text/plain": [
       " [1] \"Month\"     \"OriginApt\" \"DestApt\"   \"OriginWAC\" \"DestWAC\"   \"Carrier\"  \n",
       " [7] \"Group\"     \"Type\"      \"Total\"     \"Scheduled\" \"Charter\"  "
      ]
     },
     "metadata": {},
     "output_type": "display_data"
    }
   ],
   "source": [
    "colnames(df)"
   ]
  },
  {
   "cell_type": "code",
   "execution_count": 7,
   "metadata": {
    "collapsed": true
   },
   "outputs": [],
   "source": [
    "cities <- c('BOS', 'MDW', 'FLL', 'MIA','LAX')"
   ]
  },
  {
   "cell_type": "code",
   "execution_count": 9,
   "metadata": {
    "collapsed": false
   },
   "outputs": [],
   "source": [
    "df1 <- df[df$OriginApt=='BOS'|df$OriginApt=='MDW'|df$OriginApt=='FLL'|df$OriginApt=='MIA'|df$OriginApt=='LAX',]"
   ]
  },
  {
   "cell_type": "code",
   "execution_count": 10,
   "metadata": {
    "collapsed": false
   },
   "outputs": [
    {
     "data": {
      "text/html": [
       "<ol class=list-inline>\n",
       "\t<li>5133</li>\n",
       "\t<li>11</li>\n",
       "</ol>\n"
      ],
      "text/latex": [
       "\\begin{enumerate*}\n",
       "\\item 5133\n",
       "\\item 11\n",
       "\\end{enumerate*}\n"
      ],
      "text/markdown": [
       "1. 5133\n",
       "2. 11\n",
       "\n",
       "\n"
      ],
      "text/plain": [
       "[1] 5133   11"
      ]
     },
     "metadata": {},
     "output_type": "display_data"
    }
   ],
   "source": [
    "dim(df1)"
   ]
  },
  {
   "cell_type": "markdown",
   "metadata": {},
   "source": [
    "* 1.4 Determine the number of  arrivals they each had in 2014."
   ]
  },
  {
   "cell_type": "code",
   "execution_count": 58,
   "metadata": {
    "collapsed": true
   },
   "outputs": [],
   "source": [
    "df2 <- df[df$DestApt=='BOS'|df$DestApt=='MDW'|df$DestApt=='FLL'|df$DestApt=='MIA'|df$DestApt=='LAX',]"
   ]
  },
  {
   "cell_type": "code",
   "execution_count": 59,
   "metadata": {
    "collapsed": false
   },
   "outputs": [
    {
     "data": {
      "text/html": [
       "<ol class=list-inline>\n",
       "\t<li>0</li>\n",
       "\t<li>11</li>\n",
       "</ol>\n"
      ],
      "text/latex": [
       "\\begin{enumerate*}\n",
       "\\item 0\n",
       "\\item 11\n",
       "\\end{enumerate*}\n"
      ],
      "text/markdown": [
       "1. 0\n",
       "2. 11\n",
       "\n",
       "\n"
      ],
      "text/plain": [
       "[1]  0 11"
      ]
     },
     "metadata": {},
     "output_type": "display_data"
    }
   ],
   "source": [
    "dim(df2)"
   ]
  },
  {
   "cell_type": "markdown",
   "metadata": {},
   "source": [
    "* 1.5 Which airline was each airport's largest departure carrier?"
   ]
  },
  {
   "cell_type": "code",
   "execution_count": 60,
   "metadata": {
    "collapsed": false
   },
   "outputs": [
    {
     "data": {
      "text/html": [
       "<table>\n",
       "<thead><tr><th></th><th scope=col>Month</th><th scope=col>OriginApt</th><th scope=col>DestApt</th><th scope=col>OriginWAC</th><th scope=col>DestWAC</th><th scope=col>Carrier</th><th scope=col>Group</th><th scope=col>Type</th><th scope=col>Total</th><th scope=col>Scheduled</th><th scope=col>Charter</th></tr></thead>\n",
       "<tbody>\n",
       "\t<tr><th scope=row>24989</th><td>201412    </td><td>MIA       </td><td>YUL       </td><td>33        </td><td>941       </td><td>AC        </td><td>0         </td><td>Passengers</td><td>5,981     </td><td>5,981     </td><td>0         </td></tr>\n",
       "\t<tr><th scope=row>24990</th><td>201412    </td><td>MIA       </td><td>YYZ       </td><td>33        </td><td>936       </td><td>13Q       </td><td>0         </td><td>Passengers</td><td>9         </td><td>0         </td><td>9         </td></tr>\n",
       "\t<tr><th scope=row>24991</th><td>201412    </td><td>MIA       </td><td>YYZ       </td><td>33        </td><td>936       </td><td>AA        </td><td>3         </td><td>Passengers</td><td>22,338    </td><td>22,338    </td><td>0         </td></tr>\n",
       "\t<tr><th scope=row>24992</th><td>201412    </td><td>MIA       </td><td>YYZ       </td><td>33        </td><td>936       </td><td>AC        </td><td>0         </td><td>Passengers</td><td>27,525    </td><td>27,525    </td><td>0         </td></tr>\n",
       "\t<tr><th scope=row>24993</th><td>201412    </td><td>MIA       </td><td>YYZ       </td><td>33        </td><td>936       </td><td>WS        </td><td>0         </td><td>Passengers</td><td>8,530     </td><td>8,530     </td><td>0         </td></tr>\n",
       "\t<tr><th scope=row>24994</th><td>201412    </td><td>MIA       </td><td>ZRH       </td><td>33        </td><td>486       </td><td>LX        </td><td>0         </td><td>Passengers</td><td>23,863    </td><td>23,863    </td><td>0         </td></tr>\n",
       "</tbody>\n",
       "</table>\n"
      ],
      "text/latex": [
       "\\begin{tabular}{r|lllllllllll}\n",
       "  & Month & OriginApt & DestApt & OriginWAC & DestWAC & Carrier & Group & Type & Total & Scheduled & Charter\\\\\n",
       "\\hline\n",
       "\t24989 & 201412     & MIA        & YUL        & 33         & 941        & AC         & 0          & Passengers & 5,981      & 5,981      & 0         \\\\\n",
       "\t24990 & 201412     & MIA        & YYZ        & 33         & 936        & 13Q        & 0          & Passengers & 9          & 0          & 9         \\\\\n",
       "\t24991 & 201412     & MIA        & YYZ        & 33         & 936        & AA         & 3          & Passengers & 22,338     & 22,338     & 0         \\\\\n",
       "\t24992 & 201412     & MIA        & YYZ        & 33         & 936        & AC         & 0          & Passengers & 27,525     & 27,525     & 0         \\\\\n",
       "\t24993 & 201412     & MIA        & YYZ        & 33         & 936        & WS         & 0          & Passengers & 8,530      & 8,530      & 0         \\\\\n",
       "\t24994 & 201412     & MIA        & ZRH        & 33         & 486        & LX         & 0          & Passengers & 23,863     & 23,863     & 0         \\\\\n",
       "\\end{tabular}\n"
      ],
      "text/plain": [
       "       Month OriginApt DestApt OriginWAC DestWAC Carrier Group       Type\n",
       "24989 201412       MIA     YUL        33     941      AC     0 Passengers\n",
       "24990 201412       MIA     YYZ        33     936     13Q     0 Passengers\n",
       "24991 201412       MIA     YYZ        33     936      AA     3 Passengers\n",
       "24992 201412       MIA     YYZ        33     936      AC     0 Passengers\n",
       "24993 201412       MIA     YYZ        33     936      WS     0 Passengers\n",
       "24994 201412       MIA     ZRH        33     486      LX     0 Passengers\n",
       "       Total Scheduled Charter\n",
       "24989  5,981     5,981       0\n",
       "24990      9         0       9\n",
       "24991 22,338    22,338       0\n",
       "24992 27,525    27,525       0\n",
       "24993  8,530     8,530       0\n",
       "24994 23,863    23,863       0"
      ]
     },
     "metadata": {},
     "output_type": "display_data"
    }
   ],
   "source": [
    "tail(df1)"
   ]
  },
  {
   "cell_type": "markdown",
   "metadata": {},
   "source": [
    "* 1.6 Which airline was the largest arrival carrier? "
   ]
  },
  {
   "cell_type": "code",
   "execution_count": 65,
   "metadata": {
    "collapsed": false
   },
   "outputs": [],
   "source": [
    "df5<- df1[,c(2,6)]\n"
   ]
  },
  {
   "cell_type": "markdown",
   "metadata": {},
   "source": [
    "* 1.7For each of these airports, determine what airports the largest number of arrivals were from, and the airport that the largest number of departures went to."
   ]
  },
  {
   "cell_type": "code",
   "execution_count": null,
   "metadata": {
    "collapsed": true
   },
   "outputs": [],
   "source": []
  },
  {
   "cell_type": "markdown",
   "metadata": {},
   "source": [
    " ## Part 2 \n",
    " \n",
    " Join the summary tables to the accident tables. \n",
    " \n",
    " * 2.1 For each of these airports, determine the number of accidents or incidents that occurred at them between 2010 and 2014 inclusive, according to the FAA."
   ]
  },
  {
   "cell_type": "code",
   "execution_count": null,
   "metadata": {
    "collapsed": true
   },
   "outputs": [],
   "source": []
  },
  {
   "cell_type": "markdown",
   "metadata": {},
   "source": [
    "* 2.2  Determine the number of deaths that occurred in each event for each of these five airports."
   ]
  },
  {
   "cell_type": "code",
   "execution_count": null,
   "metadata": {
    "collapsed": true
   },
   "outputs": [],
   "source": []
  },
  {
   "cell_type": "markdown",
   "metadata": {},
   "source": [
    " * 2.3 Determine what the top ten (primary) causes of 2010-2014 incidents and accidents are for all events resulting in deaths regardless of where they occurred. Provide descriptions (not codes) for the causes."
   ]
  },
  {
   "cell_type": "code",
   "execution_count": null,
   "metadata": {
    "collapsed": true
   },
   "outputs": [],
   "source": []
  },
  {
   "cell_type": "markdown",
   "metadata": {},
   "source": [
    "* 2.4 Make a graph showing the total number of deaths per year per airport. "
   ]
  },
  {
   "cell_type": "code",
   "execution_count": null,
   "metadata": {
    "collapsed": true
   },
   "outputs": [],
   "source": []
  }
 ],
 "metadata": {
  "kernelspec": {
   "display_name": "R",
   "language": "R",
   "name": "ir"
  },
  "language_info": {
   "codemirror_mode": "r",
   "file_extension": ".r",
   "mimetype": "text/x-r-source",
   "name": "R",
   "pygments_lexer": "r",
   "version": "3.3.1"
  }
 },
 "nbformat": 4,
 "nbformat_minor": 0
}
