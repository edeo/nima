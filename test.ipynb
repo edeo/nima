{
  "cells": [
{
  "cell_type": "markdown",
  "metadata": {},
  "source": [
    "* 4.10. \n",
    "\n",
    "A flight data warehouse for a travel agent consists of six dimensions: traveller, departure (city), departure\n",
    "time, arrival, arrival time, and flight; and two measures: count, and avg fare, where avg fare stores the\n",
    "concrete fare at the lowest level but average fare at other levels.\n",
    "\n",
    "(a) Suppose the cube is fully materialized. Starting with the base cuboid [traveller, departure, departure time,\n",
    "arrival, arrival time, flight], what specific OLAP operations (e.g., roll-up flight to airline) should\n",
    "one perform in order to list the average fare per month for each business traveller who flies American\n",
    "Airlines (AA) from L.A. in the year 2004?\n",
    "\n",
    "(b) Suppose we want to compute a data cube where the condition is that the minimum number of records is\n",
    "10 and the average fare is over $500. Outline an efficient cube computation method (based on common\n",
    "sense about flight data distribution).\n",
    "\n"
    ]
},
{
  "cell_type": "markdown",
  "metadata": {
    "collapsed": true
  },
  "source": [
    "\n",
    "In R:\n",
    "\n",
    "\n",
    "\n"
    ]
},
{
  "cell_type": "markdown",
  "metadata": {
    "collapsed": true
  },
  "source": [
    "\n",
    "<img src="files/image.png">\n",
    "\n",
    "\n",
    "\n"
    ]
},
{
  "cell_type": "code",
  "execution_count": null,
  "metadata": {
    "collapsed": true
  },
  "outputs": [],
  "source": []
}
],
"metadata": {
  "kernelspec": {
    "display_name": "R",
    "language": "R",
    "name": "ir"
  },
  "language_info": {
    "codemirror_mode": "r",
    "file_extension": ".r",
    "mimetype": "text/x-r-source",
    "name": "R",
    "pygments_lexer": "r",
    "version": "3.3.1"
  }
},
"nbformat": 4,
"nbformat_minor": 0
}