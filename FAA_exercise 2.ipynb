{
 "cells": [
  {
   "cell_type": "markdown",
   "metadata": {},
   "source": [
    "This is this week's assignment.  It looks to be mostly working with\n",
    "pandas and dataframe.  Hope I can get most of it done by Friday.\n",
    "\n",
    "In this exercise you'll examine passenger volume data and also\n",
    "incident and accident data for airlines and airports. You have the use\n",
    "of your previously manipulated air transportation data (the data you\n",
    "worked with in GrEx1). New data are from the U.S. Dept. of\n",
    "Transportation (USDOT) and the U.S. Federal Aviation Administration\n",
    "(FAA).\n",
    "\n",
    "The Data\n",
    "\n",
    "The new data in this assignment are from the USDOT and FAA. The USDOT\n",
    "data are for calendar year 2014. They are about passengers who\n",
    "travelled. It's in the headered csv file 2014 CY-YTD Passenger Raw\n",
    "Data_2-1.csv. Some background on this data can be found at:\n",
    "\n",
    "[http://www.transportation.gov/policy/aviation-policy/us-international-air-passenger-and-freight-statistics-report#TheData]\n",
    "\n",
    "The FAA data are \"AID\" data: they're about air transportation\n",
    "accidents and incidents. They can be found at:\n",
    "\n",
    "http://av-info.faa.gov/dd_sublevel.asp?Folder=\\AID\n",
    "\n",
    "The FAA data you should use for the assignment are in the file\n",
    "A2010_14.zip, which is a zip archived tab delimited file. (It should\n",
    "be tab delimited, but it might be fixed field.) The layout of this\n",
    "file is in Afilelayout.txt. The FAA airport codes are in Airport.txt.\n",
    "The descriptions of various codes are in AIDCODES.DOC. You can find\n",
    "additional documentation on the FAA site, above.\n",
    "\n",
    "What You Need to Do\n",
    "\n",
    "Use the available data to do the following.\n",
    "\n",
    "Determine for the airports BOS, MDW, FLL, MIA, and LAX how many\n",
    "passenger departures and arrivals they each had in 2014, and also\n",
    "which airline was each airport's largest departure carrier and the\n",
    "largest arrival carrier.\n",
    "For each of these airports, determine what airports the largest number\n",
    "of arrivals were from, and the airport that the largest number of\n",
    "departures went to.\n",
    "For each of these airports, determine the number of accidents or\n",
    "incidents that occurred at them between 2010 and 2014 inclusive,\n",
    "according to the FAA. Determine the number of deaths that occurred in\n",
    "each event for each of these five airports.\n",
    "Determine what the top ten (primary) causes of 2010-2014 incidents and\n",
    "accidents are for all events resulting in deaths regardless of where\n",
    "they occurred. Provide descriptions (not codes) for the causes.\n",
    "\n",
    "Use the available data in the ways that work best for you.\n",
    "\n",
    "Note that in the USDOT data file there are commas in quantities that\n",
    "exceed one thousand. Where this is the case, the quantity is enclosed\n",
    "in double quotes.\n",
    "\n",
    "\n"
   ]
  },
  {
   "cell_type": "markdown",
   "metadata": {},
   "source": [
    "Read in the data files : "
   ]
  },
  {
   "cell_type": "code",
   "execution_count": 4,
   "metadata": {
    "collapsed": false
   },
   "outputs": [
    {
     "ename": "ERROR",
     "evalue": "Error in library(dplyr): there is no package called ‘dplyr’\n",
     "output_type": "error",
     "traceback": [
      "Error in library(dplyr): there is no package called ‘dplyr’\nTraceback:\n",
      "1. library(dplyr)",
      "2. stop(txt, domain = NA)"
     ]
    }
   ],
   "source": [
    "library(dplyr)\n",
    "df <- read.csv('')\n",
    "\n",
    "filter(flights,"
   ]
  },
  {
   "cell_type": "markdown",
   "metadata": {},
   "source": [
    "What are the dimensions of the dataframes?\n"
   ]
  },
  {
   "cell_type": "code",
   "execution_count": 8,
   "metadata": {
    "collapsed": true
   },
   "outputs": [],
   "source": [
    "x<-'test'"
   ]
  },
  {
   "cell_type": "markdown",
   "metadata": {},
   "source": [
    "Determine for the airports BOS, MDW, FLL, MIA, and LAX how many passenger departures "
   ]
  },
  {
   "cell_type": "code",
   "execution_count": 1,
   "metadata": {
    "collapsed": true
   },
   "outputs": [],
   "source": [
    "x<-'test'"
   ]
  },
  {
   "cell_type": "markdown",
   "metadata": {},
   "source": [
    "and arrivals they each had in 2014"
   ]
  },
  {
   "cell_type": "code",
   "execution_count": 2,
   "metadata": {
    "collapsed": true
   },
   "outputs": [],
   "source": [
    "x<-'test'"
   ]
  },
  {
   "cell_type": "markdown",
   "metadata": {},
   "source": [
    "which airline was each airport's largest departure carrier"
   ]
  },
  {
   "cell_type": "code",
   "execution_count": 3,
   "metadata": {
    "collapsed": true
   },
   "outputs": [],
   "source": [
    "x<-'test'"
   ]
  },
  {
   "cell_type": "markdown",
   "metadata": {},
   "source": [
    "largest arrival carrier."
   ]
  },
  {
   "cell_type": "code",
   "execution_count": null,
   "metadata": {
    "collapsed": true
   },
   "outputs": [],
   "source": []
  },
  {
   "cell_type": "code",
   "execution_count": 5,
   "metadata": {
    "collapsed": true
   },
   "outputs": [],
   "source": [
    "x<-'test'"
   ]
  },
  {
   "cell_type": "code",
   "execution_count": 9,
   "metadata": {
    "collapsed": true
   },
   "outputs": [],
   "source": [
    "x<-'test'"
   ]
  },
  {
   "cell_type": "code",
   "execution_count": null,
   "metadata": {
    "collapsed": true
   },
   "outputs": [],
   "source": []
  }
 ],
 "metadata": {
  "kernelspec": {
   "display_name": "R",
   "language": "R",
   "name": "ir"
  },
  "language_info": {
   "codemirror_mode": "r",
   "file_extension": ".r",
   "mimetype": "text/x-r-source",
   "name": "R",
   "pygments_lexer": "r",
   "version": "3.3.1"
  }
 },
 "nbformat": 4,
 "nbformat_minor": 0
}
